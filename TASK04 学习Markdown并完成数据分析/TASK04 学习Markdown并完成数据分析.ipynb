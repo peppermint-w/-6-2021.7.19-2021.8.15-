{
 "cells": [
  {
   "cell_type": "markdown",
   "metadata": {},
   "source": [
    "# 北美旅游"
   ]
  },
  {
   "cell_type": "markdown",
   "metadata": {},
   "source": [
    "狗熊会"
   ]
  },
  {
   "cell_type": "markdown",
   "metadata": {},
   "source": [
    "案例难度：****"
   ]
  },
  {
   "cell_type": "markdown",
   "metadata": {},
   "source": [
    "案例背景：伴随互联网的普及，越来越多热爱旅游的驴友们开始选择在网上购买旅游产品，但是网上的旅游产品名目众多，面对一个相对陌生的旅行目的地，驴友们往往很难选择出最“物美价廉”的那一个、本案例通过对网上各种北美旅游产品的相关信息进行统计分析，帮助驴友们花更少的钱，购买最赞的北美旅游产品！"
   ]
  },
  {
   "cell_type": "markdown",
   "metadata": {},
   "source": [
    "数据介绍：案例数据提供了2926条北美旅游数据观测，共25个变量，其中包括产品名称、旅游方式、供应商、等级、景点个数、交通情况、用餐情况、是否有自由活动、客户评分、出游人数、评价人数、报价信息、旅游线路等，详细解释请查看案例推文北美在线旅游产品选择攻略。https://mp.weixin.qq.com/s?__biz=MzA5MjEyMTYwMg==&mid=2650239943&idx=1&sn=31fb805a37d8c609c4dd850bb80183b0&chksm=88722caabf05a5bc1b5e539684966b5c102b0e52c15fdbde6749f8dd3163f226e64b99d9e8de&mpshare=1&scene=23&srcid=0326Xwd30oPzy3LGYoGRi6h3#rd"
   ]
  },
  {
   "cell_type": "markdown",
   "metadata": {},
   "source": [
    "学习目标：<br>\n",
    "1.了解旅游数据；<br>\n",
    "2.对文本数据进行简单处理和描述分析。"
   ]
  },
  {
   "cell_type": "markdown",
   "metadata": {},
   "source": [
    "## 任务一"
   ]
  },
  {
   "cell_type": "markdown",
   "metadata": {},
   "source": [
    "读入数据，筛选出产品名称、旅游方式、供应商、等级、景点个数、交通、用餐、自由活动、总评价、出游人数、出发地、每日报价、旅游线路变量并重命名为英文变量名。"
   ]
  },
  {
   "cell_type": "markdown",
   "metadata": {},
   "source": [
    "去除产品名称中带有“健康医疗”以及从国内出发（出发地为上海或北京）的样本。将数据集命名为travel_dat，查看数据的前几行。"
   ]
  },
  {
   "cell_type": "code",
   "execution_count": 1,
   "metadata": {},
   "outputs": [],
   "source": [
    "import pandas as pd #导入pandas库用于读取数据和清洗数据"
   ]
  },
  {
   "cell_type": "code",
   "execution_count": 2,
   "metadata": {},
   "outputs": [],
   "source": [
    "#读取原始数据命名为travel_1：2926行，25列\n",
    "travel_1 = pd.read_excel('travel.xlsx')"
   ]
  },
  {
   "cell_type": "code",
   "execution_count": 3,
   "metadata": {},
   "outputs": [],
   "source": [
    "#筛选出指定列并命名为travel_2：2926行，19列\n",
    "travel_2 = travel_1[['产品名称','旅游方式','供应商','等级','景点个数','交通','用餐','自由活动','总评价','出游人数','出发地','周日报价','周一报价','周二报价','周三报价','周四报价','周五报价','周六报价','旅游线路']]"
   ]
  },
  {
   "cell_type": "code",
   "execution_count": 4,
   "metadata": {},
   "outputs": [],
   "source": [
    "#将travel_2的列名重命名为英文变量名\n",
    "travel_2.columns = ['Product','TravelMethod','Agency','Star','Place','Traffic','Meal','FreeActivitie','Evaluate','Sale','Depart','SunPrice','MonPrice','Tuesprice','WedPrice','ThusPrice','Friprice','Satprice','Routine']"
   ]
  },
  {
   "cell_type": "code",
   "execution_count": 5,
   "metadata": {},
   "outputs": [],
   "source": [
    "#筛选出产品名称中带有“健康医疗”的索引并命名为index_1（共6条）\n",
    "index_1 = travel_2[travel_2['Product'].str.contains('健康医疗')].index"
   ]
  },
  {
   "cell_type": "code",
   "execution_count": 6,
   "metadata": {},
   "outputs": [],
   "source": [
    "#删除索引为index_1的记录，并将删除后的数据命名为travel_3：2920行，19列\n",
    "travel_3 = travel_2.drop(index = index_1)"
   ]
  },
  {
   "cell_type": "code",
   "execution_count": 7,
   "metadata": {},
   "outputs": [],
   "source": [
    "#筛选出出发地不为上海且不为北京的数据（共5条），并命名为travel_dat：2915行，19列\n",
    "travel_dat = travel_3[(travel_3['Depart'] != '北京') & (travel_3['Depart'] != '上海')]"
   ]
  },
  {
   "cell_type": "code",
   "execution_count": 8,
   "metadata": {},
   "outputs": [],
   "source": [
    "#重新设置travel_dat的索引使连续\n",
    "travel_dat.index = range(len(travel_dat))"
   ]
  },
  {
   "cell_type": "code",
   "execution_count": 9,
   "metadata": {},
   "outputs": [
    {
     "data": {
      "text/html": [
       "<div>\n",
       "<style scoped>\n",
       "    .dataframe tbody tr th:only-of-type {\n",
       "        vertical-align: middle;\n",
       "    }\n",
       "\n",
       "    .dataframe tbody tr th {\n",
       "        vertical-align: top;\n",
       "    }\n",
       "\n",
       "    .dataframe thead th {\n",
       "        text-align: right;\n",
       "    }\n",
       "</style>\n",
       "<table border=\"1\" class=\"dataframe\">\n",
       "  <thead>\n",
       "    <tr style=\"text-align: right;\">\n",
       "      <th></th>\n",
       "      <th>Product</th>\n",
       "      <th>TravelMethod</th>\n",
       "      <th>Agency</th>\n",
       "      <th>Star</th>\n",
       "      <th>Place</th>\n",
       "      <th>Traffic</th>\n",
       "      <th>Meal</th>\n",
       "      <th>FreeActivitie</th>\n",
       "      <th>Evaluate</th>\n",
       "      <th>Sale</th>\n",
       "      <th>Depart</th>\n",
       "      <th>SunPrice</th>\n",
       "      <th>MonPrice</th>\n",
       "      <th>Tuesprice</th>\n",
       "      <th>WedPrice</th>\n",
       "      <th>ThusPrice</th>\n",
       "      <th>Friprice</th>\n",
       "      <th>Satprice</th>\n",
       "      <th>Routine</th>\n",
       "    </tr>\n",
       "  </thead>\n",
       "  <tbody>\n",
       "    <tr>\n",
       "      <th>0</th>\n",
       "      <td>美国洛杉矶+旧金山6日5晚跟团游(3钻)·七大主题项目任选二【限时特惠】含必付</td>\n",
       "      <td>跟团游</td>\n",
       "      <td>供应商：熊大国旅</td>\n",
       "      <td>5晚3钻</td>\n",
       "      <td>共7个景点，包含7个经典景点：</td>\n",
       "      <td>暂无交通信息</td>\n",
       "      <td>暂无用餐信息</td>\n",
       "      <td>自由活动1次</td>\n",
       "      <td>4.3 分</td>\n",
       "      <td>39人出游</td>\n",
       "      <td>洛杉矶</td>\n",
       "      <td>¥4796起</td>\n",
       "      <td>¥4796起</td>\n",
       "      <td>¥4796起</td>\n",
       "      <td>¥4496起</td>\n",
       "      <td>¥4496起</td>\n",
       "      <td>¥4496起</td>\n",
       "      <td>¥4496起</td>\n",
       "      <td>西海岸</td>\n",
       "    </tr>\n",
       "    <tr>\n",
       "      <th>1</th>\n",
       "      <td>美国西海岸+洛杉矶+拉斯维加斯+旧金山+黄石国家公园10日9晚跟团游(3钻)·大峡谷+羚羊彩...</td>\n",
       "      <td>跟团游</td>\n",
       "      <td>供应商：熊大国旅</td>\n",
       "      <td>9晚3钻</td>\n",
       "      <td>共14个景点，包含12个经典景点：</td>\n",
       "      <td>行车时长38小时</td>\n",
       "      <td>暂无用餐信息</td>\n",
       "      <td>自由活动1次</td>\n",
       "      <td>3.8 分</td>\n",
       "      <td>136人出游</td>\n",
       "      <td>洛杉矶</td>\n",
       "      <td>¥6885起</td>\n",
       "      <td>¥6885起</td>\n",
       "      <td>¥6885起</td>\n",
       "      <td>¥6585起</td>\n",
       "      <td>NaN</td>\n",
       "      <td>NaN</td>\n",
       "      <td>¥6585起</td>\n",
       "      <td>西海岸</td>\n",
       "    </tr>\n",
       "    <tr>\n",
       "      <th>2</th>\n",
       "      <td>美国黄石国家公园+洛杉矶+拉斯维加斯+盐湖城5日半自助游·大提顿国家公园、布莱斯国家公园·(...</td>\n",
       "      <td>半自助游</td>\n",
       "      <td>供应商：途风（熊大旗下）</td>\n",
       "      <td>暂无酒店信息</td>\n",
       "      <td>共12个景点，包含5个经典景点：</td>\n",
       "      <td>暂无交通信息</td>\n",
       "      <td>暂无用餐信息</td>\n",
       "      <td>暂无自由活动信息</td>\n",
       "      <td>3.0 分</td>\n",
       "      <td>42人出游</td>\n",
       "      <td>洛杉矶</td>\n",
       "      <td>实时计价</td>\n",
       "      <td>NaN</td>\n",
       "      <td>NaN</td>\n",
       "      <td>¥2970起</td>\n",
       "      <td>¥2970起</td>\n",
       "      <td>NaN</td>\n",
       "      <td>¥2970起</td>\n",
       "      <td>西海岸</td>\n",
       "    </tr>\n",
       "    <tr>\n",
       "      <th>3</th>\n",
       "      <td>美国洛杉矶+旧金山+硅谷5日4晚跟团游·17里湾优胜美地二选一【含主题乐园门票】</td>\n",
       "      <td>跟团游</td>\n",
       "      <td>供应商：Namei Group Inc.</td>\n",
       "      <td>4晚3钻</td>\n",
       "      <td>共11个景点，包含9个经典景点：</td>\n",
       "      <td>行车时长6小时</td>\n",
       "      <td>暂无用餐信息</td>\n",
       "      <td>自由活动1次</td>\n",
       "      <td>3.3 分</td>\n",
       "      <td>27人出游</td>\n",
       "      <td>洛杉矶</td>\n",
       "      <td>¥3058起</td>\n",
       "      <td>¥3058起</td>\n",
       "      <td>¥3058起</td>\n",
       "      <td>¥3058起</td>\n",
       "      <td>¥3058起</td>\n",
       "      <td>¥3058起</td>\n",
       "      <td>¥3058起</td>\n",
       "      <td>西海岸</td>\n",
       "    </tr>\n",
       "    <tr>\n",
       "      <th>4</th>\n",
       "      <td>美国洛杉矶+拉斯维加斯+旧金山14日13晚半自助游·1号公路+6大国家公园自驾</td>\n",
       "      <td>半自助游</td>\n",
       "      <td>供应商：熊大国旅</td>\n",
       "      <td>暂无酒店信息</td>\n",
       "      <td>共54个景点，包含15个经典景点：</td>\n",
       "      <td>行车时长33小时</td>\n",
       "      <td>42次自理</td>\n",
       "      <td>暂无自由活动信息</td>\n",
       "      <td>5.0 分</td>\n",
       "      <td>13人出游</td>\n",
       "      <td>洛杉矶</td>\n",
       "      <td>¥8898起</td>\n",
       "      <td>¥8898起</td>\n",
       "      <td>¥8898起</td>\n",
       "      <td>¥8898起</td>\n",
       "      <td>¥8898起</td>\n",
       "      <td>¥8898起</td>\n",
       "      <td>¥8898起</td>\n",
       "      <td>西海岸</td>\n",
       "    </tr>\n",
       "    <tr>\n",
       "      <th>5</th>\n",
       "      <td>美国拉斯维加斯+洛杉矶7日6晚跟团游(3钻)·七大主题公园任选三+携程大礼包</td>\n",
       "      <td>跟团游</td>\n",
       "      <td>供应商：熊大国旅</td>\n",
       "      <td>6晚3钻</td>\n",
       "      <td>共6个景点，包含6个经典景点：</td>\n",
       "      <td>暂无交通信息</td>\n",
       "      <td>暂无用餐信息</td>\n",
       "      <td>自由活动1次</td>\n",
       "      <td>5.0 分</td>\n",
       "      <td>27人出游</td>\n",
       "      <td>洛杉矶</td>\n",
       "      <td>¥5047起</td>\n",
       "      <td>¥5047起</td>\n",
       "      <td>¥5047起</td>\n",
       "      <td>¥4747起</td>\n",
       "      <td>¥4747起</td>\n",
       "      <td>¥4747起</td>\n",
       "      <td>¥4747起</td>\n",
       "      <td>西海岸</td>\n",
       "    </tr>\n",
       "  </tbody>\n",
       "</table>\n",
       "</div>"
      ],
      "text/plain": [
       "                                             Product TravelMethod  \\\n",
       "0            美国洛杉矶+旧金山6日5晚跟团游(3钻)·七大主题项目任选二【限时特惠】含必付          跟团游   \n",
       "1  美国西海岸+洛杉矶+拉斯维加斯+旧金山+黄石国家公园10日9晚跟团游(3钻)·大峡谷+羚羊彩...          跟团游   \n",
       "2  美国黄石国家公园+洛杉矶+拉斯维加斯+盐湖城5日半自助游·大提顿国家公园、布莱斯国家公园·(...         半自助游   \n",
       "3           美国洛杉矶+旧金山+硅谷5日4晚跟团游·17里湾优胜美地二选一【含主题乐园门票】          跟团游   \n",
       "4            美国洛杉矶+拉斯维加斯+旧金山14日13晚半自助游·1号公路+6大国家公园自驾         半自助游   \n",
       "5             美国拉斯维加斯+洛杉矶7日6晚跟团游(3钻)·七大主题公园任选三+携程大礼包          跟团游   \n",
       "\n",
       "                 Agency    Star              Place   Traffic    Meal  \\\n",
       "0              供应商：熊大国旅    5晚3钻    共7个景点，包含7个经典景点：    暂无交通信息  暂无用餐信息   \n",
       "1              供应商：熊大国旅    9晚3钻  共14个景点，包含12个经典景点：  行车时长38小时  暂无用餐信息   \n",
       "2          供应商：途风（熊大旗下）  暂无酒店信息   共12个景点，包含5个经典景点：    暂无交通信息  暂无用餐信息   \n",
       "3  供应商：Namei Group Inc.    4晚3钻   共11个景点，包含9个经典景点：   行车时长6小时  暂无用餐信息   \n",
       "4              供应商：熊大国旅  暂无酒店信息  共54个景点，包含15个经典景点：  行车时长33小时   42次自理   \n",
       "5              供应商：熊大国旅    6晚3钻    共6个景点，包含6个经典景点：    暂无交通信息  暂无用餐信息   \n",
       "\n",
       "  FreeActivitie Evaluate    Sale Depart SunPrice MonPrice Tuesprice WedPrice  \\\n",
       "0        自由活动1次    4.3 分   39人出游    洛杉矶   ¥4796起   ¥4796起    ¥4796起   ¥4496起   \n",
       "1        自由活动1次    3.8 分  136人出游    洛杉矶   ¥6885起   ¥6885起    ¥6885起   ¥6585起   \n",
       "2      暂无自由活动信息    3.0 分   42人出游    洛杉矶     实时计价      NaN       NaN   ¥2970起   \n",
       "3        自由活动1次    3.3 分   27人出游    洛杉矶   ¥3058起   ¥3058起    ¥3058起   ¥3058起   \n",
       "4      暂无自由活动信息    5.0 分   13人出游    洛杉矶   ¥8898起   ¥8898起    ¥8898起   ¥8898起   \n",
       "5        自由活动1次    5.0 分   27人出游    洛杉矶   ¥5047起   ¥5047起    ¥5047起   ¥4747起   \n",
       "\n",
       "  ThusPrice Friprice Satprice Routine  \n",
       "0    ¥4496起   ¥4496起   ¥4496起     西海岸  \n",
       "1       NaN      NaN   ¥6585起     西海岸  \n",
       "2    ¥2970起      NaN   ¥2970起     西海岸  \n",
       "3    ¥3058起   ¥3058起   ¥3058起     西海岸  \n",
       "4    ¥8898起   ¥8898起   ¥8898起     西海岸  \n",
       "5    ¥4747起   ¥4747起   ¥4747起     西海岸  "
      ]
     },
     "execution_count": 9,
     "metadata": {},
     "output_type": "execute_result"
    }
   ],
   "source": [
    "#查看数据前6行\n",
    "travel_dat.head(6)"
   ]
  },
  {
   "cell_type": "markdown",
   "metadata": {},
   "source": [
    "## 任务二"
   ]
  },
  {
   "cell_type": "markdown",
   "metadata": {},
   "source": [
    "提取周一到周日报价中的数值部分，计算一周报价的均值（若一周7天均无报价则缺失），并以新变量“Price”存入数据集travel_dat中，剔除平均价格缺失的样本。绘制价格的对数分布直方图并进行简要解读。"
   ]
  },
  {
   "cell_type": "code",
   "execution_count": 10,
   "metadata": {},
   "outputs": [],
   "source": [
    "import numpy as np #用于空值赋值\n",
    "import matplotlib.pyplot as plt #用于绘制直方图\n",
    "plt.rcParams['font.sans-serif'] ='Microsoft Yahei' #显示中文：微软雅黑"
   ]
  },
  {
   "cell_type": "code",
   "execution_count": 11,
   "metadata": {},
   "outputs": [],
   "source": [
    "#提取周一到周日报价，命名为price_1\n",
    "price_1 = travel_dat[['SunPrice','MonPrice','Tuesprice','WedPrice','ThusPrice','Friprice','Satprice']]"
   ]
  },
  {
   "cell_type": "code",
   "execution_count": 12,
   "metadata": {},
   "outputs": [],
   "source": [
    "#复制一份price_1并命名为price_2\n",
    "price_2 = price_1.copy()"
   ]
  },
  {
   "cell_type": "code",
   "execution_count": 13,
   "metadata": {},
   "outputs": [],
   "source": [
    "#提取数值\n",
    "for i in range(price_1.shape[1]):\n",
    "    for j in range(price_1.shape[0]):\n",
    "        if type(price_1.iloc[j,i]) != float and price_1.iloc[j,i] != '实时计价': #筛选出格式为“¥4796起”的元素\n",
    "            price_2.iloc[j,i] = float(price_1.iloc[j,i].split('起')[0].split('¥')[1]) #提取数值\n",
    "        elif price_1.iloc[j,i] == '实时计价': #将元素为“实时计价”暂时赋值为缺失值\n",
    "            price_2.iloc[j,i] = np.nan"
   ]
  },
  {
   "cell_type": "code",
   "execution_count": 14,
   "metadata": {},
   "outputs": [],
   "source": [
    "#将均值（保留3位小数）插入travel_dat的末尾列，并命名列名为Price\n",
    "travel_dat.insert(len(travel_dat.columns), column = 'Price', value = round(price_2.mean(axis = 1),3))"
   ]
  },
  {
   "cell_type": "code",
   "execution_count": 15,
   "metadata": {},
   "outputs": [],
   "source": [
    "#剔除剔除平均价格缺失的样本，并将剔除后的结果命名为travel_dat_dropna（剔除了300条数据，剩余2615个样本）\n",
    "travel_dat_dropna = travel_dat.dropna(subset = ['Price'], axis = 0)"
   ]
  },
  {
   "cell_type": "code",
   "execution_count": 16,
   "metadata": {},
   "outputs": [
    {
     "name": "stderr",
     "output_type": "stream",
     "text": [
      "D:\\22Anaconda\\lib\\site-packages\\numpy\\lib\\histograms.py:839: RuntimeWarning: invalid value encountered in greater_equal\n",
      "  keep = (tmp_a >= first_edge)\n",
      "D:\\22Anaconda\\lib\\site-packages\\numpy\\lib\\histograms.py:840: RuntimeWarning: invalid value encountered in less_equal\n",
      "  keep &= (tmp_a <= last_edge)\n"
     ]
    },
    {
     "data": {
      "image/png": "[encoded data removed]",
      "text/plain": [
       "<Figure size 720x576 with 1 Axes>"
      ]
     },
     "metadata": {
      "needs_background": "light"
     },
     "output_type": "display_data"
    }
   ],
   "source": [
    "#绘制价格的对数分布直方图\n",
    "plt.figure(figsize = (10,8)) #创建画布长10高8\n",
    "plt.hist(x = np.log(travel_dat['Price']) #绘制直方图的数据\n",
    "        ,bins = 30 #分成30段\n",
    "        ,color = '#FDE255' #直方图的颜色\n",
    "        ) #绘制直方图\n",
    "plt.xlabel(xlabel = '产品价格（对数变换）', fontsize = 12) #设置x轴名称及名称字体大小\n",
    "plt.ylabel(ylabel = '频数', fontsize = 12) #设置y轴名称及名称字体大小\n",
    "plt.xticks(ticks = [np.log(1000), np.log(10000)], labels = ['1千', '1万'])#设置x轴刻度\n",
    "plt.gca().spines['top'].set_alpha(.0) #顶部框线设置透明度为0，即不显示顶部框线\n",
    "plt.gca().spines['right'].set_alpha(.0) #右侧框线设置透明度为0，即不显示右侧框线\n",
    "plt.show() #显示图像"
   ]
  },
  {
   "cell_type": "markdown",
   "metadata": {},
   "source": [
    "解读：由直方图可以看出对数变换后的产品价格均值近似对称分布，且更近似于t分布，产品价格均值大多集中在3000-10000元。"
   ]
  },
  {
   "cell_type": "markdown",
   "metadata": {},
   "source": [
    "## 任务三"
   ]
  },
  {
   "cell_type": "markdown",
   "metadata": {},
   "source": [
    "从“Place”变量中提取出全部景点数和经典景点数，并分别以“AllPlace”和“ClassicPlace”变量存入数据集travel_dat，变量类型为数值型。<br>\n",
    "将全部景点数按由少到多分成4组，分别为“9个及以下”，“10-16个”，“17-25个”，“25个以上”，以变量“AllPlacesGroup”变量保存在数据集travel_dat中，计算每一组内产品的平均价格并使用dplyr包的summarise()函数进行展示。"
   ]
  },
  {
   "cell_type": "code",
   "execution_count": 17,
   "metadata": {},
   "outputs": [],
   "source": [
    "import re #正则表达式，用于匹配数字"
   ]
  },
  {
   "cell_type": "code",
   "execution_count": 18,
   "metadata": {},
   "outputs": [],
   "source": [
    "#生成新的数据框Place，两列分别存放全部景点数和经典景点数，并转化成数值型数据\n",
    "Place = pd.DataFrame(columns = ['AllPlace', 'ClassicPlace'], data = [re.findall(r'\\d+', str(i)) for i in travel_dat['Place']])\n",
    "Place['AllPlace'] = [int(dat) if type(dat) == str else np.nan for dat in Place['AllPlace']]\n",
    "Place['ClassicPlace'] = [int(dat) if type(dat) == str else np.nan for dat in Place['ClassicPlace']]"
   ]
  },
  {
   "cell_type": "code",
   "execution_count": 19,
   "metadata": {},
   "outputs": [],
   "source": [
    "#将travel_dat和Place合并成多列\n",
    "travel_dat = pd.concat([travel_dat, Place], axis = 1)"
   ]
  },
  {
   "cell_type": "code",
   "execution_count": 20,
   "metadata": {},
   "outputs": [],
   "source": [
    "#生成AllPlacesGroup列的列表数据\n",
    "AllPlacesGroup = []\n",
    "for dat in travel_dat.AllPlace:\n",
    "    if np.isnan(dat):\n",
    "        AllPlacesGroup.append('NA')\n",
    "    elif dat <= 9:\n",
    "        AllPlacesGroup.append('9个及以下')\n",
    "    elif dat > 9 and dat <= 16:\n",
    "        AllPlacesGroup.append('10-16个')\n",
    "    elif dat > 16 and dat <=25:\n",
    "        AllPlacesGroup.append('17-25个')\n",
    "    else:\n",
    "        AllPlacesGroup.append('25个以上')"
   ]
  },
  {
   "cell_type": "code",
   "execution_count": 21,
   "metadata": {},
   "outputs": [],
   "source": [
    "#在travel_dat的最后添加AllPlacesGroup列\n",
    "travel_dat.insert(travel_dat.shape[1], column = 'AllPlacesGroup', value = AllPlacesGroup)"
   ]
  },
  {
   "cell_type": "code",
   "execution_count": 22,
   "metadata": {},
   "outputs": [
    {
     "data": {
      "text/plain": [
       "AllPlacesGroup\n",
       "9个及以下     4203.235\n",
       "10-16个    5299.523\n",
       "25个以上     6981.004\n",
       "17-25个    6564.111\n",
       "NA        4596.389\n",
       "Name: Price, dtype: float64"
      ]
     },
     "execution_count": 22,
     "metadata": {},
     "output_type": "execute_result"
    }
   ],
   "source": [
    "#计算每一组内产品的平均价格\n",
    "round(travel_dat.groupby('AllPlacesGroup', sort = False).mean(),3)['Price']"
   ]
  },
  {
   "cell_type": "markdown",
   "metadata": {},
   "source": [
    "## 任务四"
   ]
  },
  {
   "cell_type": "markdown",
   "metadata": {},
   "source": [
    "利用周一到周日是否有报价计算每周出团日期，若当天有报价则视为出团，无报价则为未出团。提取出“仅工作日”，“仅周末”，“工作日和周末”三类出团情况并以“Date”变量存入数据集travel_dat（不属于上述任何一种情况的以缺失值存储），计算每一类出团日期的平均价格并展示。"
   ]
  },
  {
   "cell_type": "code",
   "execution_count": 23,
   "metadata": {},
   "outputs": [],
   "source": [
    "#提取出价格列并命名为Price\n",
    "Price = travel_dat[['SunPrice', 'MonPrice', 'Tuesprice', 'WedPrice', 'ThusPrice', 'Friprice', 'Satprice']]"
   ]
  },
  {
   "cell_type": "code",
   "execution_count": 24,
   "metadata": {},
   "outputs": [],
   "source": [
    "#生成Date列的列表数据\n",
    "Date = []\n",
    "for i in range(Price.shape[0]):\n",
    "    if sum(Price.iloc[i,1:6].isnull()) != 5 and sum(Price.iloc[i,[0,-1]].isnull()) != 2: #工作日有报价且周末有报价\n",
    "        Date.append('工作日和周末')\n",
    "    elif sum(Price.iloc[i,1:6].isnull()) != 5 and sum(Price.iloc[i,[0,-1]].isnull()) == 2: #工作日有报价且周末无报价\n",
    "        Date.append('仅工作日')\n",
    "    elif sum(Price.iloc[i,1:6].isnull()) == 5 and sum(Price.iloc[i,[0,-1]].isnull()) != 2: #工作日无报价且周末有报价\n",
    "        Date.append('仅周末')\n",
    "    else:\n",
    "        Date.append(np.nan)"
   ]
  },
  {
   "cell_type": "code",
   "execution_count": 25,
   "metadata": {},
   "outputs": [],
   "source": [
    "#在travel_dat的最后添加Date列\n",
    "travel_dat.insert(travel_dat.shape[1], column = 'Date', value = Date)"
   ]
  },
  {
   "cell_type": "code",
   "execution_count": 26,
   "metadata": {},
   "outputs": [
    {
     "data": {
      "text/plain": [
       "Date\n",
       "仅周末       6929.399\n",
       "仅工作日      5274.069\n",
       "工作日和周末    5787.447\n",
       "Name: Price, dtype: float64"
      ]
     },
     "execution_count": 26,
     "metadata": {},
     "output_type": "execute_result"
    }
   ],
   "source": [
    "#计算每一类出团日期的平均价格\n",
    "round(travel_dat.groupby('Date').mean()['Price'],3)"
   ]
  },
  {
   "cell_type": "markdown",
   "metadata": {},
   "source": [
    "## 任务五"
   ]
  },
  {
   "cell_type": "markdown",
   "metadata": {},
   "source": [
    "提取“Star”变量中的“*钻”字符来表示产品等级，当一个产品包含多个钻级时取最大钻级，并将产品钻级以新变量“Star2”存入数据集travel_dat中，变量类型为因子型。"
   ]
  },
  {
   "cell_type": "markdown",
   "metadata": {},
   "source": [
    "绘制价格的对数对产品等级的分组箱线图，并按每一等级的平均价格由低到高进行排列，对箱线图结果作出简要解读。"
   ]
  },
  {
   "cell_type": "code",
   "execution_count": 27,
   "metadata": {},
   "outputs": [],
   "source": [
    "#生成Star2列的列表数据\n",
    "Star2 = []\n",
    "for star in travel_dat['Star']:\n",
    "    if '钻' not in str(star) or type(star) == float: #不含“钻”字\n",
    "        Star2.append('无信息')\n",
    "    else:\n",
    "        sta = re.findall(r'\\d+(?:\\.\\d+)?钻',star) #匹配“钻”前面的数字\n",
    "        max_star = max([int(round(float(re.findall(r'\\d+(?:\\.\\d+)?', s)[0]),0)) for s in sta]) #str→float→不要小数(3.5统一为4)→int\n",
    "        Star2.append(str(max_star) + '钻') #最大值"
   ]
  },
  {
   "cell_type": "code",
   "execution_count": 28,
   "metadata": {},
   "outputs": [],
   "source": [
    "#在travel_dat的最后添加Star2列\n",
    "travel_dat.insert(travel_dat.shape[1], column = 'Star2', value = Star2)"
   ]
  },
  {
   "cell_type": "code",
   "execution_count": 29,
   "metadata": {},
   "outputs": [
    {
     "data": {
      "image/png": "[encoded data removed]",
      "text/plain": [
       "<Figure size 720x576 with 1 Axes>"
      ]
     },
     "metadata": {
      "needs_background": "light"
     },
     "output_type": "display_data"
    }
   ],
   "source": [
    "#绘制箱线图\n",
    "plt.figure(figsize = (10,8)) #创建画布长10高8\n",
    "plt.boxplot([np.log(travel_dat[travel_dat.Star2 == label]['Price'].dropna()).tolist() for label in travel_dat.groupby('Star2').mean()['Price'].sort_values().index.tolist()] #绘制分组箱线图的数据\n",
    "           ,widths = [(travel_dat.Star2.value_counts()[sta]+1000)/4000 for sta in travel_dat.groupby('Star2').mean()['Price'].sort_values().index.tolist()] #箱子的宽度根据样本量确定\n",
    "           ,labels = travel_dat.groupby('Star2').mean()['Price'].sort_values().index.tolist() #分组标志\n",
    "           ,boxprops = {'facecolor':'#D1F5AB', 'color':'#8AE52B'} #箱线图的填充色和边框色：浅绿\n",
    "           ,capprops = {'color':'white'} #箱线图顶端和末端线条的颜色：白色\n",
    "           ,whiskerprops = {'color':'#8AE52B'} #须的颜色：浅绿\n",
    "           ,medianprops = {'linestyle':'-','linewidth':2,'color':'#8AE52B'} #中位数线的风格、宽度和颜色：绿\n",
    "           ,sym = 'g.' #异常点：绿色圆点\n",
    "           ,patch_artist = True #不生成Line2D\n",
    "           ) #绘制直方图\n",
    "plt.ylabel(ylabel = '产品价格（对数变换）', fontsize = 12) #设置y轴名称及名称字体大小\n",
    "plt.yticks(ticks = [np.log(1000), np.log(10000)], labels = ['1千', '1万'])#设置y轴刻度\n",
    "plt.gca().spines['top'].set_alpha(.0) #顶部框线设置透明度为0，即不显示顶部框线\n",
    "plt.gca().spines['right'].set_alpha(.0) #右侧框线设置透明度为0，即不显示右侧框线\n",
    "plt.gca().spines['left'].set_alpha(.0) #左侧框线设置透明度为0，即不显示左侧框线\n",
    "plt.gca().spines['bottom'].set_alpha(.0) #底部框线设置透明度为0，即不显示底部框线\n",
    "plt.show() #显示图像"
   ]
  },
  {
   "cell_type": "markdown",
   "metadata": {},
   "source": [
    "解读：将各等级的产品价格均值由小到大排序后，等级也从高到低排列，符合常理；各等级对数变换后的产品价格的中位数随着等级的升高而增加。3钻的对数变换后的产品价格最为分散，表现为异常值最多，箱体也较短，且呈左偏分布；2钻和5钻的对数变换后的产品价格分散程度小，异常值较少，箱体也较长，且呈偏态分布（2钻呈左偏分布，5钻呈右偏分布）。"
   ]
  },
  {
   "cell_type": "code",
   "execution_count": null,
   "metadata": {},
   "outputs": [],
   "source": []
  }
 ],
 "metadata": {
  "kernelspec": {
   "display_name": "Python 3",
   "language": "python",
   "name": "python3"
  },
  "language_info": {
   "codemirror_mode": {
    "name": "ipython",
    "version": 3
   },
   "file_extension": ".py",
   "mimetype": "text/x-python",
   "name": "python",
   "nbconvert_exporter": "python",
   "pygments_lexer": "ipython3",
   "version": "3.8.3"
  }
 },
 "nbformat": 4,
 "nbformat_minor": 4
}
